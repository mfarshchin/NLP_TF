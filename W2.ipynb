{
 "cells": [
  {
   "cell_type": "markdown",
   "metadata": {},
   "source": [
    "# NLP in TF"
   ]
  },
  {
   "cell_type": "markdown",
   "metadata": {},
   "source": [
    "#### Reference: https://colab.research.google.com/github/lmoroney/dlaicourse/blob/master/TensorFlow%20In%20Practice/Course%203%20-%20NLP/Course%203%20-%20Week%202%20-%20Lesson%202.ipynb#scrollTo=XYYDvoskkE61"
   ]
  },
  {
   "cell_type": "markdown",
   "metadata": {},
   "source": [
    "### Word encoding"
   ]
  },
  {
   "cell_type": "code",
   "execution_count": 46,
   "metadata": {},
   "outputs": [],
   "source": [
    "import tensorflow as tf\n",
    "import numpy as np\n",
    "from tensorflow.keras.preprocessing.text import Tokenizer\n",
    "from tensorflow.keras.preprocessing.sequence import pad_sequences"
   ]
  },
  {
   "cell_type": "code",
   "execution_count": 47,
   "metadata": {},
   "outputs": [],
   "source": [
    "vocab_size = 10000\n",
    "embedding_dim = 16\n",
    "max_length = 100\n",
    "trunc_type='post'\n",
    "padding_type='post'\n",
    "oov_tok = \"<OOV>\"\n",
    "training_size = 20000"
   ]
  },
  {
   "cell_type": "markdown",
   "metadata": {},
   "source": [
    "## Working with Sarcasm dataset"
   ]
  },
  {
   "cell_type": "markdown",
   "metadata": {},
   "source": [
    "#### Reference: https://colab.research.google.com/github/lmoroney/dlaicourse/blob/master/TensorFlow%20In%20Practice/Course%203%20-%20NLP/Course%203%20-%20Week%201%20-%20Lesson%203.ipynb#scrollTo=OkaBMeNDwMel"
   ]
  },
  {
   "cell_type": "code",
   "execution_count": 48,
   "metadata": {},
   "outputs": [],
   "source": [
    "import json\n",
    "\n",
    "with open(\"/users/mohammadfarshchin/Documents/TensorFlowFiles/Sarcasm/sarcasm.json\", 'r') as f:\n",
    "    datastore = json.load(f)\n",
    "\n",
    "\n",
    "sentences = [] \n",
    "labels = []\n",
    "urls = []\n",
    "for item in datastore:\n",
    "    sentences.append(item['headline'])\n",
    "    labels.append(item['is_sarcastic'])\n",
    "    urls.append(item['article_link'])\n",
    "\n",
    "\n",
    "\n",
    "training_sentences = sentences[0:training_size]\n",
    "testing_sentences = sentences[training_size:]\n",
    "training_labels = labels[0:training_size]\n",
    "testing_labels = labels[training_size:]"
   ]
  },
  {
   "cell_type": "code",
   "execution_count": 49,
   "metadata": {},
   "outputs": [],
   "source": [
    "tokenizer = Tokenizer(num_words=vocab_size, oov_token=oov_tok)\n",
    "tokenizer.fit_on_texts(training_sentences)\n",
    "\n",
    "word_index = tokenizer.word_index\n",
    "\n",
    "training_sequences = tokenizer.texts_to_sequences(training_sentences)\n",
    "training_padded = pad_sequences(training_sequences, maxlen=max_length, padding=padding_type, truncating=trunc_type)\n",
    "\n",
    "testing_sequences = tokenizer.texts_to_sequences(testing_sentences)\n",
    "testing_padded = pad_sequences(testing_sequences, maxlen=max_length, padding=padding_type, truncating=trunc_type)"
   ]
  },
  {
   "cell_type": "code",
   "execution_count": 51,
   "metadata": {},
   "outputs": [],
   "source": [
    "# Need this block to get it to work with TensorFlow 2.x\n",
    "import numpy as np\n",
    "training_padded = np.array(training_padded)\n",
    "training_labels = np.array(training_labels)\n",
    "testing_padded = np.array(testing_padded)\n",
    "testing_labels = np.array(testing_labels)"
   ]
  },
  {
   "cell_type": "code",
   "execution_count": 52,
   "metadata": {},
   "outputs": [],
   "source": [
    "model = tf.keras.Sequential([\n",
    "    tf.keras.layers.Embedding(vocab_size, embedding_dim, input_length=max_length),\n",
    "    tf.keras.layers.GlobalAveragePooling1D(),\n",
    "    tf.keras.layers.Dense(24, activation='relu'),\n",
    "    tf.keras.layers.Dense(1, activation='sigmoid')\n",
    "])\n",
    "model.compile(loss='binary_crossentropy',optimizer='adam',metrics=['accuracy'])"
   ]
  },
  {
   "cell_type": "code",
   "execution_count": 53,
   "metadata": {},
   "outputs": [
    {
     "name": "stdout",
     "output_type": "stream",
     "text": [
      "Model: \"sequential\"\n",
      "_________________________________________________________________\n",
      "Layer (type)                 Output Shape              Param #   \n",
      "=================================================================\n",
      "embedding (Embedding)        (None, 100, 16)           160000    \n",
      "_________________________________________________________________\n",
      "global_average_pooling1d (Gl (None, 16)                0         \n",
      "_________________________________________________________________\n",
      "dense (Dense)                (None, 24)                408       \n",
      "_________________________________________________________________\n",
      "dense_1 (Dense)              (None, 1)                 25        \n",
      "=================================================================\n",
      "Total params: 160,433\n",
      "Trainable params: 160,433\n",
      "Non-trainable params: 0\n",
      "_________________________________________________________________\n"
     ]
    }
   ],
   "source": [
    "model.summary()"
   ]
  },
  {
   "cell_type": "code",
   "execution_count": 54,
   "metadata": {},
   "outputs": [
    {
     "name": "stdout",
     "output_type": "stream",
     "text": [
      "Train on 20000 samples, validate on 6709 samples\n",
      "Epoch 1/30\n",
      "20000/20000 - 3s - loss: 0.6825 - accuracy: 0.5604 - val_loss: 0.6681 - val_accuracy: 0.5655\n",
      "Epoch 2/30\n",
      "20000/20000 - 2s - loss: 0.5095 - accuracy: 0.7680 - val_loss: 0.4038 - val_accuracy: 0.8311\n",
      "Epoch 3/30\n",
      "20000/20000 - 2s - loss: 0.3322 - accuracy: 0.8668 - val_loss: 0.3649 - val_accuracy: 0.8414\n",
      "Epoch 4/30\n",
      "20000/20000 - 2s - loss: 0.2753 - accuracy: 0.8906 - val_loss: 0.3454 - val_accuracy: 0.8547\n",
      "Epoch 5/30\n",
      "20000/20000 - 3s - loss: 0.2378 - accuracy: 0.9062 - val_loss: 0.3428 - val_accuracy: 0.8541\n",
      "Epoch 6/30\n",
      "20000/20000 - 2s - loss: 0.2092 - accuracy: 0.9182 - val_loss: 0.3646 - val_accuracy: 0.8426\n",
      "Epoch 7/30\n",
      "20000/20000 - 2s - loss: 0.1883 - accuracy: 0.9281 - val_loss: 0.3614 - val_accuracy: 0.8514\n",
      "Epoch 8/30\n",
      "20000/20000 - 2s - loss: 0.1669 - accuracy: 0.9380 - val_loss: 0.3741 - val_accuracy: 0.8505\n",
      "Epoch 9/30\n",
      "20000/20000 - 2s - loss: 0.1516 - accuracy: 0.9434 - val_loss: 0.3839 - val_accuracy: 0.8520\n",
      "Epoch 10/30\n",
      "20000/20000 - 2s - loss: 0.1378 - accuracy: 0.9507 - val_loss: 0.4098 - val_accuracy: 0.8466\n",
      "Epoch 11/30\n",
      "20000/20000 - 3s - loss: 0.1236 - accuracy: 0.9563 - val_loss: 0.4177 - val_accuracy: 0.8499\n",
      "Epoch 12/30\n",
      "20000/20000 - 2s - loss: 0.1133 - accuracy: 0.9606 - val_loss: 0.4405 - val_accuracy: 0.8489\n",
      "Epoch 13/30\n",
      "20000/20000 - 3s - loss: 0.1036 - accuracy: 0.9647 - val_loss: 0.4657 - val_accuracy: 0.8465\n",
      "Epoch 14/30\n",
      "20000/20000 - 2s - loss: 0.0951 - accuracy: 0.9681 - val_loss: 0.4975 - val_accuracy: 0.8411\n",
      "Epoch 15/30\n",
      "20000/20000 - 2s - loss: 0.0892 - accuracy: 0.9706 - val_loss: 0.5130 - val_accuracy: 0.8420\n",
      "Epoch 16/30\n",
      "20000/20000 - 2s - loss: 0.0802 - accuracy: 0.9740 - val_loss: 0.5417 - val_accuracy: 0.8398\n",
      "Epoch 17/30\n",
      "20000/20000 - 2s - loss: 0.0731 - accuracy: 0.9768 - val_loss: 0.5648 - val_accuracy: 0.8375\n",
      "Epoch 18/30\n",
      "20000/20000 - 2s - loss: 0.0677 - accuracy: 0.9788 - val_loss: 0.5947 - val_accuracy: 0.8369\n",
      "Epoch 19/30\n",
      "20000/20000 - 2s - loss: 0.0627 - accuracy: 0.9795 - val_loss: 0.6238 - val_accuracy: 0.8335\n",
      "Epoch 20/30\n",
      "20000/20000 - 2s - loss: 0.0572 - accuracy: 0.9822 - val_loss: 0.6599 - val_accuracy: 0.8319\n",
      "Epoch 21/30\n",
      "20000/20000 - 2s - loss: 0.0523 - accuracy: 0.9847 - val_loss: 0.6914 - val_accuracy: 0.8305\n",
      "Epoch 22/30\n",
      "20000/20000 - 2s - loss: 0.0489 - accuracy: 0.9854 - val_loss: 0.7162 - val_accuracy: 0.8275\n",
      "Epoch 23/30\n",
      "20000/20000 - 2s - loss: 0.0481 - accuracy: 0.9859 - val_loss: 0.7402 - val_accuracy: 0.8259\n",
      "Epoch 24/30\n",
      "20000/20000 - 2s - loss: 0.0416 - accuracy: 0.9883 - val_loss: 0.7756 - val_accuracy: 0.8256\n",
      "Epoch 25/30\n",
      "20000/20000 - 2s - loss: 0.0374 - accuracy: 0.9902 - val_loss: 0.8224 - val_accuracy: 0.8258\n",
      "Epoch 26/30\n",
      "20000/20000 - 2s - loss: 0.0360 - accuracy: 0.9899 - val_loss: 0.8395 - val_accuracy: 0.8219\n",
      "Epoch 27/30\n",
      "20000/20000 - 2s - loss: 0.0330 - accuracy: 0.9906 - val_loss: 0.8821 - val_accuracy: 0.8204\n",
      "Epoch 28/30\n",
      "20000/20000 - 2s - loss: 0.0297 - accuracy: 0.9921 - val_loss: 0.9290 - val_accuracy: 0.8190\n",
      "Epoch 29/30\n",
      "20000/20000 - 2s - loss: 0.0298 - accuracy: 0.9912 - val_loss: 1.0140 - val_accuracy: 0.8140\n",
      "Epoch 30/30\n",
      "20000/20000 - 2s - loss: 0.0266 - accuracy: 0.9927 - val_loss: 0.9951 - val_accuracy: 0.8131\n"
     ]
    }
   ],
   "source": [
    "num_epochs = 30\n",
    "history = model.fit(training_padded, training_labels, epochs=num_epochs, validation_data=(testing_padded, testing_labels), verbose=2)"
   ]
  },
  {
   "cell_type": "code",
   "execution_count": 55,
   "metadata": {},
   "outputs": [
    {
     "data": {
      "image/png": "[encoded data removed]",
      "text/plain": [
       "<Figure size 432x288 with 1 Axes>"
      ]
     },
     "metadata": {
      "needs_background": "light"
     },
     "output_type": "display_data"
    },
    {
     "data": {
      "image/png": "[encoded data removed]",
      "text/plain": [
       "<Figure size 432x288 with 1 Axes>"
      ]
     },
     "metadata": {
      "needs_background": "light"
     },
     "output_type": "display_data"
    }
   ],
   "source": [
    "import matplotlib.pyplot as plt\n",
    "\n",
    "\n",
    "def plot_graphs(history, string):\n",
    "  plt.plot(history.history[string])\n",
    "  plt.plot(history.history['val_'+string])\n",
    "  plt.xlabel(\"Epochs\")\n",
    "  plt.ylabel(string)\n",
    "  plt.legend([string, 'val_'+string])\n",
    "  plt.show()\n",
    "  \n",
    "plot_graphs(history, \"accuracy\")\n",
    "plot_graphs(history, \"loss\")"
   ]
  },
  {
   "cell_type": "code",
   "execution_count": 56,
   "metadata": {},
   "outputs": [
    {
     "name": "stdout",
     "output_type": "stream",
     "text": [
      "former <OOV> store clerk sues over secret 'black <OOV> for minority shoppers ? ? ? ? ? ? ? ? ? ? ? ? ? ? ? ? ? ? ? ? ? ? ? ? ? ? ? ? ? ? ? ? ? ? ? ? ? ? ? ? ? ? ? ? ? ? ? ? ? ? ? ? ? ? ? ? ? ? ? ? ? ? ? ? ? ? ? ? ? ? ? ? ? ? ? ? ? ? ? ? ? ? ? ? ? ? ? ?\n",
      "mom starting to fear son's web series closest thing she will have to grandchild\n",
      "1\n"
     ]
    }
   ],
   "source": [
    "reverse_word_index = dict([(value, key) for (key, value) in word_index.items()])\n",
    "\n",
    "def decode_sentence(text):\n",
    "    return ' '.join([reverse_word_index.get(i, '?') for i in text])\n",
    "\n",
    "print(decode_sentence(training_padded[0]))\n",
    "print(training_sentences[2])\n",
    "print(labels[2])"
   ]
  },
  {
   "cell_type": "code",
   "execution_count": 57,
   "metadata": {},
   "outputs": [
    {
     "name": "stdout",
     "output_type": "stream",
     "text": [
      "(10000, 16)\n"
     ]
    }
   ],
   "source": [
    "e = model.layers[0]\n",
    "weights = e.get_weights()[0]\n",
    "print(weights.shape) # shape: (vocab_size, embedding_dim)\n"
   ]
  },
  {
   "cell_type": "code",
   "execution_count": null,
   "metadata": {},
   "outputs": [],
   "source": []
  }
 ],
 "metadata": {
  "kernelspec": {
   "display_name": "Python 3",
   "language": "python",
   "name": "python3"
  },
  "language_info": {
   "codemirror_mode": {
    "name": "ipython",
    "version": 3
   },
   "file_extension": ".py",
   "mimetype": "text/x-python",
   "name": "python",
   "nbconvert_exporter": "python",
   "pygments_lexer": "ipython3",
   "version": "3.7.3"
  }
 },
 "nbformat": 4,
 "nbformat_minor": 4
}
